{
 "cells": [
  {
   "cell_type": "markdown",
   "source": [
    "# Prediction"
   ],
   "metadata": {
    "collapsed": false
   },
   "id": "c3f99d9e507f3733"
  },
  {
   "cell_type": "code",
   "execution_count": 20,
   "outputs": [],
   "source": [
    "import pandas as pd\n",
    "import numpy as np\n",
    "import matplotlib.pyplot as plt\n",
    "import seaborn as sns\n",
    "from sklearn.ensemble import RandomForestClassifier"
   ],
   "metadata": {
    "collapsed": false,
    "ExecuteTime": {
     "end_time": "2023-12-21T15:33:36.272248423Z",
     "start_time": "2023-12-21T15:33:32.753924607Z"
    }
   },
   "id": "e14bb4c02562d9c3"
  },
  {
   "cell_type": "code",
   "execution_count": 6,
   "outputs": [],
   "source": [
    "from constants import data_folder, img_shape"
   ],
   "metadata": {
    "collapsed": false,
    "ExecuteTime": {
     "end_time": "2023-12-21T15:22:10.931205285Z",
     "start_time": "2023-12-21T15:22:10.879156288Z"
    }
   },
   "id": "33b0a75594a51917"
  },
  {
   "cell_type": "code",
   "execution_count": null,
   "outputs": [],
   "source": [],
   "metadata": {
    "collapsed": false
   },
   "id": "b617f9bb0f14191f"
  },
  {
   "cell_type": "code",
   "execution_count": 3,
   "outputs": [],
   "source": [
    "df = pd.read_csv(f\"{data_folder}/raw/sample-dataset.csv\", header=None)"
   ],
   "metadata": {
    "collapsed": false,
    "ExecuteTime": {
     "end_time": "2023-12-21T15:20:34.250902491Z",
     "start_time": "2023-12-21T15:20:33.732216078Z"
    }
   },
   "id": "292bc9c3def15082"
  },
  {
   "cell_type": "markdown",
   "source": [
    "## 2. Modèle de RandomForest"
   ],
   "metadata": {
    "collapsed": false
   },
   "id": "2d873f71dfa5e6a7"
  },
  {
   "cell_type": "markdown",
   "source": [
    "### Stratégie d'évaluation"
   ],
   "metadata": {
    "collapsed": false
   },
   "id": "e1647fd7329c932e"
  },
  {
   "cell_type": "markdown",
   "source": [
    "On se propose d'utiliser une StratifiedKFold : \n",
    "- on utilise la cross-validation (plus fiable que le train/test split)\n",
    "- on utilise la stratégie KFold (plusieurs passes sur le jeu de données donc une estimation plus fiable)\n",
    "- on mélange aléatoirement les données (\"shuffle\") pour éviter un éventuel tri des données initiales (ce qui induirait un fort biais, les données $i$ et $i+1$ pourraient être corrélées si elles étaient triées, et chaque fold pourrait n'être confronté qu'à une seule classe au lieu des 10 dans le pire des cas)\n",
    "- c'est une méthode très adaptée à un jeu de données avec plusieurs classes : en effet, la version stratifiée permet de respecter la répartition des classes, ce qui est d'autant plus utile que les classes sont déséquilibrées. Ici les classes sont équilibrées donc l'avantage est moindre mais la version stratifiée est théoriquement meilleure."
   ],
   "metadata": {
    "collapsed": false
   },
   "id": "ddbe0476185419c3"
  },
  {
   "cell_type": "code",
   "execution_count": 16,
   "outputs": [],
   "source": [
    "from sklearn.model_selection import StratifiedKFold, cross_validate, train_test_split"
   ],
   "metadata": {
    "collapsed": false,
    "ExecuteTime": {
     "end_time": "2023-12-21T15:26:54.230844353Z",
     "start_time": "2023-12-21T15:26:54.162286518Z"
    }
   },
   "id": "7428310c64a81193"
  },
  {
   "cell_type": "code",
   "execution_count": 8,
   "outputs": [],
   "source": [
    "def strategie_evaluation(seed: int = 0, n_splits: int = 5):\n",
    "    \"\"\"Crée notre stratégie d'évaluation\"\"\"\n",
    "    kfold = StratifiedKFold(n_splits=n_splits, shuffle=True, random_state=seed)\n",
    "    return kfold"
   ],
   "metadata": {
    "collapsed": false,
    "ExecuteTime": {
     "end_time": "2023-12-21T15:24:26.446346584Z",
     "start_time": "2023-12-21T15:24:26.393035656Z"
    }
   },
   "id": "90a90964db1d413c"
  },
  {
   "cell_type": "code",
   "execution_count": 9,
   "outputs": [],
   "source": [
    "kfold = strategie_evaluation(n_splits=2)  # 2 splits car contrainte de temps durant l'examen"
   ],
   "metadata": {
    "collapsed": false,
    "ExecuteTime": {
     "end_time": "2023-12-21T15:24:27.341283827Z",
     "start_time": "2023-12-21T15:24:27.297692035Z"
    }
   },
   "id": "bd26e4497d98213a"
  },
  {
   "cell_type": "markdown",
   "source": [
    "### Métrique"
   ],
   "metadata": {
    "collapsed": false
   },
   "id": "dbae869dd1559539"
  },
  {
   "cell_type": "markdown",
   "source": [
    "Nous proposons d'utiliser l'accuracy."
   ],
   "metadata": {
    "collapsed": false
   },
   "id": "8299bdb7e2141b4b"
  },
  {
   "cell_type": "markdown",
   "source": [
    "Afin de comparer nos modèles, nous établissons un score \"naïf\" à l'aide d'un DummyClassifier : celui-ci va permettre de tester le score qu'obtiendrait un modèle qui _ignore_ les données et choisit uniformément parmi les 10 classes disponibles."
   ],
   "metadata": {
    "collapsed": false
   },
   "id": "b4c7d08be0bfbf0e"
  },
  {
   "cell_type": "code",
   "execution_count": 10,
   "outputs": [],
   "source": [
    "from sklearn.metrics import accuracy_score\n",
    "from sklearn.dummy import DummyClassifier"
   ],
   "metadata": {
    "collapsed": false,
    "ExecuteTime": {
     "end_time": "2023-12-21T15:24:30.386849291Z",
     "start_time": "2023-12-21T15:24:30.324835964Z"
    }
   },
   "id": "54bef3b7559a648c"
  },
  {
   "cell_type": "code",
   "execution_count": 11,
   "outputs": [],
   "source": [
    "dummy = DummyClassifier(strategy=\"uniform\", random_state=0)"
   ],
   "metadata": {
    "collapsed": false,
    "ExecuteTime": {
     "end_time": "2023-12-21T15:24:31.161852325Z",
     "start_time": "2023-12-21T15:24:31.084849472Z"
    }
   },
   "id": "86fc16685d87aacc"
  },
  {
   "cell_type": "markdown",
   "source": [
    "### Création du x et du y"
   ],
   "metadata": {
    "collapsed": false
   },
   "id": "ff4b8001239155c1"
  },
  {
   "cell_type": "code",
   "execution_count": 13,
   "outputs": [],
   "source": [
    "X = df.iloc[:, 1:]\n",
    "y = df.iloc[:, 0]"
   ],
   "metadata": {
    "collapsed": false,
    "ExecuteTime": {
     "end_time": "2023-12-21T15:26:36.401509021Z",
     "start_time": "2023-12-21T15:26:35.458593109Z"
    }
   },
   "id": "fad7289ea59fa10d"
  },
  {
   "cell_type": "code",
   "execution_count": 17,
   "outputs": [],
   "source": [
    "X_train, X_test, y_train, y_test = train_test_split(X, y)"
   ],
   "metadata": {
    "collapsed": false,
    "ExecuteTime": {
     "end_time": "2023-12-21T15:26:59.276158924Z",
     "start_time": "2023-12-21T15:26:58.897967664Z"
    }
   },
   "id": "ed4ecbce0cc11b0e"
  },
  {
   "cell_type": "code",
   "execution_count": 18,
   "outputs": [
    {
     "name": "stdout",
     "output_type": "stream",
     "text": [
      "X_train.shape = (2250, 784)\n",
      "y_train.shape = (2250,)\n",
      "X_test.shape = (750, 784)\n",
      "y_test.shape = (750,)\n"
     ]
    }
   ],
   "source": [
    "# vérifions les shapes\n",
    "print(f\"{X_train.shape = }\")\n",
    "print(f\"{y_train.shape = }\")\n",
    "print(f\"{X_test.shape = }\")\n",
    "print(f\"{y_test.shape = }\")"
   ],
   "metadata": {
    "collapsed": false,
    "ExecuteTime": {
     "end_time": "2023-12-21T15:29:50.669932487Z",
     "start_time": "2023-12-21T15:29:50.541268884Z"
    }
   },
   "id": "bc863b3edb7d9026"
  },
  {
   "cell_type": "markdown",
   "source": [
    "### Fonction de cross-validation"
   ],
   "metadata": {
    "collapsed": false
   },
   "id": "c3fc3554cb287abf"
  },
  {
   "cell_type": "code",
   "execution_count": 21,
   "outputs": [],
   "source": [
    "from sklearn.metrics import make_scorer # pour convertir la fonction métrique pour sklearn\n",
    "\n",
    "\n",
    "def cross_validation(model, x, y, strategie_cv, metrique, experimentation: bool = False):\n",
    "    \"\"\"Effectue une validation croisée sur le modèle `model`\"\"\"\n",
    "\n",
    "    if experimentation:  # pour expérimenter rapidement\n",
    "        nouveau_x = x.sample(30)\n",
    "        nouveau_y = y.sample(30)\n",
    "    else:\n",
    "        nouveau_x = x\n",
    "        nouveau_y = y\n",
    "\n",
    "    scores = cross_validate(\n",
    "        model,\n",
    "        nouveau_x,\n",
    "        nouveau_y,\n",
    "        cv=strategie_cv,\n",
    "        scoring=make_scorer(metrique),\n",
    "        n_jobs=-2,  # pour tourner en parallèle, \"-1\" indique \"utilise tous les CPUs disponibles\"\n",
    "    )\n",
    "\n",
    "    return scores"
   ],
   "metadata": {
    "collapsed": false,
    "ExecuteTime": {
     "end_time": "2023-12-21T15:33:49.034580095Z",
     "start_time": "2023-12-21T15:33:48.805278501Z"
    }
   },
   "id": "9febebb214ee2f7"
  },
  {
   "cell_type": "markdown",
   "source": [
    "### 1er modèle (hyper-paramètres par défaut)"
   ],
   "metadata": {
    "collapsed": false
   },
   "id": "f4fb8f8202e6d640"
  },
  {
   "cell_type": "code",
   "execution_count": 22,
   "outputs": [],
   "source": [
    "rf_defaut = RandomForestClassifier(random_state=0)"
   ],
   "metadata": {
    "collapsed": false,
    "ExecuteTime": {
     "end_time": "2023-12-21T15:33:50.964856626Z",
     "start_time": "2023-12-21T15:33:50.896483418Z"
    }
   },
   "id": "1f68304673c0e3e7"
  },
  {
   "cell_type": "code",
   "execution_count": 22,
   "outputs": [
    {
     "name": "stdout",
     "output_type": "stream",
     "text": [
      "temps de calcul 43.36 s\n"
     ]
    }
   ],
   "source": [
    "from time import time\n",
    "\n",
    "debut = time()\n",
    "\n",
    "rf_defaut.fit(X_train, y_train)\n",
    "\n",
    "fin = time()\n",
    "print(f\"temps de calcul {round(fin - debut, 2)} s\")"
   ],
   "metadata": {
    "collapsed": false
   },
   "id": "d5163dc7908f412c"
  }
 ],
 "metadata": {
  "kernelspec": {
   "display_name": "Python 3",
   "language": "python",
   "name": "python3"
  },
  "language_info": {
   "codemirror_mode": {
    "name": "ipython",
    "version": 2
   },
   "file_extension": ".py",
   "mimetype": "text/x-python",
   "name": "python",
   "nbconvert_exporter": "python",
   "pygments_lexer": "ipython2",
   "version": "2.7.6"
  }
 },
 "nbformat": 4,
 "nbformat_minor": 5
}
